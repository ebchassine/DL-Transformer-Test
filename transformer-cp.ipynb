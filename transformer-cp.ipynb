{
 "cells": [
  {
   "cell_type": "code",
   "execution_count": 1,
   "id": "7320864f-73a5-4731-ac47-a1833d8cf1ae",
   "metadata": {},
   "outputs": [],
   "source": [
    "import torch\n",
    "import torch.nn as nn\n",
    "import torch.optim as optim\n",
    "import torch.utils.data as data\n",
    "import math\n",
    "import copy"
   ]
  },
  {
   "cell_type": "markdown",
   "id": "4c1569ee-7026-4571-b0fb-234cdcea7e5b",
   "metadata": {},
   "source": [
    "## Multi-Head Attention\n",
    "The Multi-Head Attention mechanism computes the attention between each pair of positions in a sequence. It consists of multiple “attention heads” that capture different aspects of the input sequence.\n",
    "\n"
   ]
  },
  {
   "cell_type": "code",
   "execution_count": 2,
   "id": "19280451-c2c6-4f21-a5b1-6acb04964097",
   "metadata": {},
   "outputs": [],
   "source": [
    "class MultiHeadAttention(nn.Module):\n",
    "    def __init__(self, d_model, num_heads):\n",
    "        super(MultiHeadAttention, self).__init__()\n",
    "        assert d_model % num_heads == 0, \"d_model must be divisible by num_heads\"\n",
    "        \n",
    "        self.d_model = d_model\n",
    "        self.num_heads = num_heads\n",
    "        self.d_k = d_model // num_heads\n",
    "        \n",
    "        self.W_q = nn.Linear(d_model, d_model)\n",
    "        self.W_k = nn.Linear(d_model, d_model)\n",
    "        self.W_v = nn.Linear(d_model, d_model)\n",
    "        self.W_o = nn.Linear(d_model, d_model)\n",
    "        \n",
    "    def scaled_dot_product_attention(self, Q, K, V, mask=None):\n",
    "        attn_scores = torch.matmul(Q, K.transpose(-2, -1)) / math.sqrt(self.d_k)\n",
    "        if mask is not None:\n",
    "            attn_scores = attn_scores.masked_fill(mask == 0, -1e9)\n",
    "        attn_probs = torch.softmax(attn_scores, dim=-1)\n",
    "        output = torch.matmul(attn_probs, V)\n",
    "        return output\n",
    "        \n",
    "    def split_heads(self, x):\n",
    "        batch_size, seq_length, d_model = x.size()\n",
    "        return x.view(batch_size, seq_length, self.num_heads, self.d_k).transpose(1, 2)\n",
    "        \n",
    "    def combine_heads(self, x):\n",
    "        batch_size, _, seq_length, d_k = x.size()\n",
    "        return x.transpose(1, 2).contiguous().view(batch_size, seq_length, self.d_model)\n",
    "        \n",
    "    def forward(self, Q, K, V, mask=None):\n",
    "        Q = self.split_heads(self.W_q(Q))\n",
    "        K = self.split_heads(self.W_k(K))\n",
    "        V = self.split_heads(self.W_v(V))\n",
    "        \n",
    "        attn_output = self.scaled_dot_product_attention(Q, K, V, mask)\n",
    "        output = self.W_o(self.combine_heads(attn_output))\n",
    "        return output"
   ]
  },
  {
   "cell_type": "code",
   "execution_count": 3,
   "id": "cf762990-cd02-488a-8f61-39f9baa5a3c8",
   "metadata": {},
   "outputs": [],
   "source": [
    "class PositionWiseFeedForward(nn.Module):\n",
    "    def __init__(self, d_model, d_ff):\n",
    "        super(PositionWiseFeedForward, self).__init__()\n",
    "        self.fc1 = nn.Linear(d_model, d_ff)\n",
    "        self.fc2 = nn.Linear(d_ff, d_model)\n",
    "        self.relu = nn.ReLU()\n",
    "\n",
    "    def forward(self, x):\n",
    "        return self.fc2(self.relu(self.fc1(x)))"
   ]
  },
  {
   "cell_type": "code",
   "execution_count": 4,
   "id": "1a78227a-d55d-47a9-a2b6-18aaea7ff5f4",
   "metadata": {},
   "outputs": [],
   "source": [
    "class PositionalEncoding(nn.Module):\n",
    "    def __init__(self, d_model, max_seq_length):\n",
    "        super(PositionalEncoding, self).__init__()\n",
    "        \n",
    "        pe = torch.zeros(max_seq_length, d_model)\n",
    "        position = torch.arange(0, max_seq_length, dtype=torch.float).unsqueeze(1)\n",
    "        div_term = torch.exp(torch.arange(0, d_model, 2).float() * -(math.log(10000.0) / d_model))\n",
    "        \n",
    "        pe[:, 0::2] = torch.sin(position * div_term)\n",
    "        pe[:, 1::2] = torch.cos(position * div_term)\n",
    "        \n",
    "        self.register_buffer('pe', pe.unsqueeze(0))\n",
    "        \n",
    "    def forward(self, x):\n",
    "        return x + self.pe[:, :x.size(1)]"
   ]
  },
  {
   "cell_type": "markdown",
   "id": "399c7277-6c1d-4231-9521-91761189ffc7",
   "metadata": {},
   "source": [
    "## Encoding Layer\n",
    "\n",
    "An Encoder layer consists of a Multi-Head Attention layer, a Position-wise Feed-Forward layer, and two Layer Normalization layers."
   ]
  },
  {
   "cell_type": "markdown",
   "id": "6a26daa9-9ec1-4c32-a599-b5b43e4f41e7",
   "metadata": {},
   "source": [
    "class EncoderLayer(nn.Module):\n",
    "    def __init__(self, d_model, num_heads, d_ff, dropout):\n",
    "        super(EncoderLayer, self).__init__()\n",
    "        self.self_attn = MultiHeadAttention(d_model, num_heads)\n",
    "        self.feed_forward = PositionWiseFeedForward(d_model, d_ff)\n",
    "        self.norm1 = nn.LayerNorm(d_model)\n",
    "        self.norm2 = nn.LayerNorm(d_model)\n",
    "        self.dropout = nn.Dropout(dropout)\n",
    "        \n",
    "   "
   ]
  },
  {
   "cell_type": "code",
   "execution_count": 9,
   "id": "2a539a30-fc08-4edc-9451-36ca6e870274",
   "metadata": {},
   "outputs": [],
   "source": [
    "class EncoderLayer(nn.Module):\n",
    "    def __init__(self, d_model, num_heads, d_ff, dropout):\n",
    "        super(EncoderLayer, self).__init__()\n",
    "        self.self_attn = MultiHeadAttention(d_model, num_heads)\n",
    "        self.feed_forward = PositionWiseFeedForward(d_model, d_ff)\n",
    "        self.norm1 = nn.LayerNorm(d_model)\n",
    "        self.norm2 = nn.LayerNorm(d_model)\n",
    "        self.dropout = nn.Dropout(dropout)\n",
    "        \n",
    "    def forward(self, x, mask):\n",
    "        attn_output = self.self_attn(x, x, x, mask)\n",
    "        x = self.norm1(x + self.dropout(attn_output))\n",
    "        ff_output = self.feed_forward(x)\n",
    "        x = self.norm2(x + self.dropout(ff_output))\n",
    "        return x"
   ]
  },
  {
   "cell_type": "markdown",
   "id": "7053be6e-3783-4e76-a1b0-fcbdcb4e3d52",
   "metadata": {},
   "source": [
    "## Decoder Layer\n",
    "A Decoder layer consists of two Multi-Head Attention layers, a Position-wise Feed-Forward layer, and three Layer Normalization layers."
   ]
  },
  {
   "cell_type": "code",
   "execution_count": 10,
   "id": "ad1db8b2-b4e6-4c79-b452-c680eb7bb507",
   "metadata": {},
   "outputs": [],
   "source": [
    "class DecoderLayer(nn.Module):\n",
    "    def __init__(self, d_model, num_heads, d_ff, dropout):\n",
    "        super(DecoderLayer, self).__init__()\n",
    "        self.self_attn = MultiHeadAttention(d_model, num_heads)\n",
    "        self.cross_attn = MultiHeadAttention(d_model, num_heads)\n",
    "        self.feed_forward = PositionWiseFeedForward(d_model, d_ff)\n",
    "        self.norm1 = nn.LayerNorm(d_model)\n",
    "        self.norm2 = nn.LayerNorm(d_model)\n",
    "        self.norm3 = nn.LayerNorm(d_model)\n",
    "        self.dropout = nn.Dropout(dropout)\n",
    "        \n",
    "    def forward(self, x, enc_output, src_mask, tgt_mask):\n",
    "        attn_output = self.self_attn(x, x, x, tgt_mask)\n",
    "        x = self.norm1(x + self.dropout(attn_output))\n",
    "        attn_output = self.cross_attn(x, enc_output, enc_output, src_mask)\n",
    "        x = self.norm2(x + self.dropout(attn_output))\n",
    "        ff_output = self.feed_forward(x)\n",
    "        x = self.norm3(x + self.dropout(ff_output))\n",
    "        return x"
   ]
  },
  {
   "cell_type": "markdown",
   "id": "5ebaca3c-5432-4dfa-8fd3-aed6839424ec",
   "metadata": {},
   "source": [
    "## Transformer Model"
   ]
  },
  {
   "cell_type": "code",
   "execution_count": 11,
   "id": "6f08a092-4b42-4b3c-9482-7935c878abd3",
   "metadata": {},
   "outputs": [],
   "source": [
    "class Transformer(nn.Module):\n",
    "    def __init__(self, src_vocab_size, tgt_vocab_size, d_model, num_heads, num_layers, d_ff, max_seq_length, dropout):\n",
    "        super(Transformer, self).__init__()\n",
    "        self.encoder_embedding = nn.Embedding(src_vocab_size, d_model)\n",
    "        self.decoder_embedding = nn.Embedding(tgt_vocab_size, d_model)\n",
    "        self.positional_encoding = PositionalEncoding(d_model, max_seq_length)\n",
    "\n",
    "        self.encoder_layers = nn.ModuleList([EncoderLayer(d_model, num_heads, d_ff, dropout) for _ in range(num_layers)])\n",
    "        self.decoder_layers = nn.ModuleList([DecoderLayer(d_model, num_heads, d_ff, dropout) for _ in range(num_layers)])\n",
    "\n",
    "        self.fc = nn.Linear(d_model, tgt_vocab_size)\n",
    "        self.dropout = nn.Dropout(dropout)\n",
    "\n",
    "    def generate_mask(self, src, tgt):\n",
    "        src_mask = (src != 0).unsqueeze(1).unsqueeze(2)\n",
    "        tgt_mask = (tgt != 0).unsqueeze(1).unsqueeze(3)\n",
    "        seq_length = tgt.size(1)\n",
    "        nopeak_mask = (1 - torch.triu(torch.ones(1, seq_length, seq_length), diagonal=1)).bool()\n",
    "        tgt_mask = tgt_mask & nopeak_mask\n",
    "        return src_mask, tgt_mask\n",
    "\n",
    "    def forward(self, src, tgt):\n",
    "        src_mask, tgt_mask = self.generate_mask(src, tgt)\n",
    "        src_embedded = self.dropout(self.positional_encoding(self.encoder_embedding(src)))\n",
    "        tgt_embedded = self.dropout(self.positional_encoding(self.decoder_embedding(tgt)))\n",
    "\n",
    "        enc_output = src_embedded\n",
    "        for enc_layer in self.encoder_layers:\n",
    "            enc_output = enc_layer(enc_output, src_mask)\n",
    "\n",
    "        dec_output = tgt_embedded\n",
    "        for dec_layer in self.decoder_layers:\n",
    "            dec_output = dec_layer(dec_output, enc_output, src_mask, tgt_mask)\n",
    "\n",
    "        output = self.fc(dec_output)\n",
    "        return output"
   ]
  },
  {
   "cell_type": "markdown",
   "id": "d1b3a63d-5c68-4217-bdf1-737f33a509eb",
   "metadata": {},
   "source": [
    "## Preparing Sample Data"
   ]
  },
  {
   "cell_type": "code",
   "execution_count": 12,
   "id": "7e076ab9-a850-423d-a40e-287f728bd8ff",
   "metadata": {},
   "outputs": [],
   "source": [
    "src_vocab_size = 5000\n",
    "tgt_vocab_size = 5000\n",
    "d_model = 512\n",
    "num_heads = 8\n",
    "num_layers = 6\n",
    "d_ff = 2048\n",
    "max_seq_length = 100\n",
    "dropout = 0.1\n",
    "\n",
    "transformer = Transformer(src_vocab_size, tgt_vocab_size, d_model, num_heads, num_layers, d_ff, max_seq_length, dropout)\n",
    "\n",
    "# Generate random sample data\n",
    "src_data = torch.randint(1, src_vocab_size, (64, max_seq_length))  # (batch_size, seq_length)\n",
    "tgt_data = torch.randint(1, tgt_vocab_size, (64, max_seq_length))  # (batch_size, seq_length)"
   ]
  },
  {
   "cell_type": "markdown",
   "id": "0e3c4f66-36b0-4852-a293-fb2079a31f3a",
   "metadata": {},
   "source": [
    "## Traning Model"
   ]
  },
  {
   "cell_type": "code",
   "execution_count": 13,
   "id": "399104ea-d349-4c64-9aa4-54edfbf734fa",
   "metadata": {},
   "outputs": [
    {
     "name": "stdout",
     "output_type": "stream",
     "text": [
      "Epoch: 1, Loss: 8.682002067565918\n",
      "Epoch: 2, Loss: 8.546900749206543\n",
      "Epoch: 3, Loss: 8.474512100219727\n",
      "Epoch: 4, Loss: 8.417820930480957\n",
      "Epoch: 5, Loss: 8.367109298706055\n",
      "Epoch: 6, Loss: 8.297845840454102\n",
      "Epoch: 7, Loss: 8.213878631591797\n",
      "Epoch: 8, Loss: 8.13281536102295\n",
      "Epoch: 9, Loss: 8.053223609924316\n",
      "Epoch: 10, Loss: 7.968183517456055\n",
      "Epoch: 11, Loss: 7.892980098724365\n",
      "Epoch: 12, Loss: 7.81239128112793\n",
      "Epoch: 13, Loss: 7.728797912597656\n",
      "Epoch: 14, Loss: 7.651087760925293\n",
      "Epoch: 15, Loss: 7.557143211364746\n",
      "Epoch: 16, Loss: 7.479001045227051\n",
      "Epoch: 17, Loss: 7.393152713775635\n",
      "Epoch: 18, Loss: 7.310018062591553\n",
      "Epoch: 19, Loss: 7.227380752563477\n",
      "Epoch: 20, Loss: 7.151503562927246\n",
      "Epoch: 21, Loss: 7.079168319702148\n",
      "Epoch: 22, Loss: 6.999081611633301\n",
      "Epoch: 23, Loss: 6.919484615325928\n",
      "Epoch: 24, Loss: 6.843267917633057\n",
      "Epoch: 25, Loss: 6.7683892250061035\n",
      "Epoch: 26, Loss: 6.687413215637207\n",
      "Epoch: 27, Loss: 6.612439155578613\n",
      "Epoch: 28, Loss: 6.537928581237793\n",
      "Epoch: 29, Loss: 6.472485065460205\n",
      "Epoch: 30, Loss: 6.414501667022705\n",
      "Epoch: 31, Loss: 6.344602584838867\n",
      "Epoch: 32, Loss: 6.26272439956665\n",
      "Epoch: 33, Loss: 6.208301067352295\n",
      "Epoch: 34, Loss: 6.1333112716674805\n",
      "Epoch: 35, Loss: 6.07363224029541\n",
      "Epoch: 36, Loss: 6.002382755279541\n",
      "Epoch: 37, Loss: 5.93979024887085\n",
      "Epoch: 38, Loss: 5.873181343078613\n",
      "Epoch: 39, Loss: 5.809652805328369\n",
      "Epoch: 40, Loss: 5.744871139526367\n",
      "Epoch: 41, Loss: 5.685890197753906\n",
      "Epoch: 42, Loss: 5.621766567230225\n",
      "Epoch: 43, Loss: 5.569239616394043\n",
      "Epoch: 44, Loss: 5.498411178588867\n",
      "Epoch: 45, Loss: 5.445464134216309\n",
      "Epoch: 46, Loss: 5.382519721984863\n",
      "Epoch: 47, Loss: 5.323221206665039\n",
      "Epoch: 48, Loss: 5.256865501403809\n",
      "Epoch: 49, Loss: 5.204401969909668\n",
      "Epoch: 50, Loss: 5.150600910186768\n",
      "Epoch: 51, Loss: 5.092593669891357\n",
      "Epoch: 52, Loss: 5.040409564971924\n",
      "Epoch: 53, Loss: 4.9793782234191895\n",
      "Epoch: 54, Loss: 4.92111349105835\n",
      "Epoch: 55, Loss: 4.87193489074707\n",
      "Epoch: 56, Loss: 4.821090221405029\n",
      "Epoch: 57, Loss: 4.768154144287109\n",
      "Epoch: 58, Loss: 4.708146095275879\n",
      "Epoch: 59, Loss: 4.6623005867004395\n",
      "Epoch: 60, Loss: 4.610448837280273\n",
      "Epoch: 61, Loss: 4.556962966918945\n",
      "Epoch: 62, Loss: 4.496956825256348\n",
      "Epoch: 63, Loss: 4.450335502624512\n",
      "Epoch: 64, Loss: 4.399023056030273\n",
      "Epoch: 65, Loss: 4.345700740814209\n",
      "Epoch: 66, Loss: 4.292219161987305\n",
      "Epoch: 67, Loss: 4.243993759155273\n",
      "Epoch: 68, Loss: 4.198231220245361\n",
      "Epoch: 69, Loss: 4.1446709632873535\n",
      "Epoch: 70, Loss: 4.102145195007324\n",
      "Epoch: 71, Loss: 4.054648399353027\n",
      "Epoch: 72, Loss: 4.006417751312256\n",
      "Epoch: 73, Loss: 3.951152801513672\n",
      "Epoch: 74, Loss: 3.901395559310913\n",
      "Epoch: 75, Loss: 3.851367473602295\n",
      "Epoch: 76, Loss: 3.8067193031311035\n",
      "Epoch: 77, Loss: 3.7599873542785645\n",
      "Epoch: 78, Loss: 3.7142176628112793\n",
      "Epoch: 79, Loss: 3.6699347496032715\n",
      "Epoch: 80, Loss: 3.6225125789642334\n",
      "Epoch: 81, Loss: 3.5814931392669678\n",
      "Epoch: 82, Loss: 3.5291330814361572\n",
      "Epoch: 83, Loss: 3.4923110008239746\n",
      "Epoch: 84, Loss: 3.4399542808532715\n",
      "Epoch: 85, Loss: 3.391679286956787\n",
      "Epoch: 86, Loss: 3.341564178466797\n",
      "Epoch: 87, Loss: 3.3036563396453857\n",
      "Epoch: 88, Loss: 3.2603824138641357\n",
      "Epoch: 89, Loss: 3.2133610248565674\n",
      "Epoch: 90, Loss: 3.1668217182159424\n",
      "Epoch: 91, Loss: 3.128328323364258\n",
      "Epoch: 92, Loss: 3.086886405944824\n",
      "Epoch: 93, Loss: 3.0432517528533936\n",
      "Epoch: 94, Loss: 2.992238759994507\n",
      "Epoch: 95, Loss: 2.9521639347076416\n",
      "Epoch: 96, Loss: 2.9111642837524414\n",
      "Epoch: 97, Loss: 2.8644800186157227\n",
      "Epoch: 98, Loss: 2.822824478149414\n",
      "Epoch: 99, Loss: 2.77583646774292\n",
      "Epoch: 100, Loss: 2.740934371948242\n"
     ]
    }
   ],
   "source": [
    "criterion = nn.CrossEntropyLoss(ignore_index=0)\n",
    "optimizer = optim.Adam(transformer.parameters(), lr=0.0001, betas=(0.9, 0.98), eps=1e-9)\n",
    "\n",
    "transformer.train()\n",
    "\n",
    "for epoch in range(100):\n",
    "    optimizer.zero_grad()\n",
    "    output = transformer(src_data, tgt_data[:, :-1])\n",
    "    loss = criterion(output.contiguous().view(-1, tgt_vocab_size), tgt_data[:, 1:].contiguous().view(-1))\n",
    "    loss.backward()\n",
    "    optimizer.step()\n",
    "    print(f\"Epoch: {epoch+1}, Loss: {loss.item()}\")"
   ]
  },
  {
   "cell_type": "code",
   "execution_count": 14,
   "id": "fd9735c6-090b-48b2-890f-2181fb0f2db5",
   "metadata": {},
   "outputs": [
    {
     "data": {
      "text/plain": [
       "tensor([2883,  351, 4187, 4058, 1630, 4688, 1939,  396, 4661, 4724, 4043,  673,\n",
       "        3660, 1075,  837, 1844, 3830,  220,  173, 3640,  262, 3983, 1196, 1769,\n",
       "        2623, 2180, 1114, 2235, 1870,  735,   93, 3614, 3215, 2878, 3357,  497,\n",
       "        1705, 3307, 3102,  601, 4371, 1867, 2563, 4061, 3645, 3395, 3782, 4216,\n",
       "        4490, 2887, 1063, 2197, 3316, 2665, 4457, 3784, 2397, 1525, 1840, 2379,\n",
       "         501,  338, 2880, 3411, 3794,  228,  348,  609, 3286, 1146,  478, 4553,\n",
       "         267, 1678, 4199, 4242, 1667, 4737, 3388,   12, 3730, 2695, 2428, 4271,\n",
       "         839,  592,  413,  689, 2307, 2599, 3872, 2900, 4144, 1451, 2008, 1524,\n",
       "        1495, 1269,  624])"
      ]
     },
     "execution_count": 14,
     "metadata": {},
     "output_type": "execute_result"
    }
   ],
   "source": [
    "transformer.eval()\n",
    "output = transformer(src_data[:1,:], tgt_data[:1, :-1])\n",
    "output.view(-1,tgt_vocab_size).argmax(1)\n"
   ]
  },
  {
   "cell_type": "code",
   "execution_count": null,
   "id": "0d6de387-29cd-47a8-85e5-06a45848b93b",
   "metadata": {},
   "outputs": [],
   "source": []
  }
 ],
 "metadata": {
  "kernelspec": {
   "display_name": "Python 3 (ipykernel)",
   "language": "python",
   "name": "python3"
  },
  "language_info": {
   "codemirror_mode": {
    "name": "ipython",
    "version": 3
   },
   "file_extension": ".py",
   "mimetype": "text/x-python",
   "name": "python",
   "nbconvert_exporter": "python",
   "pygments_lexer": "ipython3",
   "version": "3.10.8"
  }
 },
 "nbformat": 4,
 "nbformat_minor": 5
}
